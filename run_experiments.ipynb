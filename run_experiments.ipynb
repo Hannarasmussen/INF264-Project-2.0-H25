{
 "cells": [
  {
   "cell_type": "markdown",
   "id": "379f4c31",
   "metadata": {},
   "source": [
    "\n",
    "# Import\n"
   ]
  },
  {
   "cell_type": "code",
   "execution_count": 34,
   "id": "35ab683c",
   "metadata": {},
   "outputs": [],
   "source": [
    "import numpy as np\n",
    "\n",
    "import matplotlib.pyplot as plt\n",
    "\n",
    "from sklearn.model_selection import GridSearchCV\n",
    "from sklearn.metrics import f1_score, classification_report\n",
    "\n",
    "from sklearn.model_selection import train_test_split\n",
    "\n",
    "import torch\n",
    "from torch.utils.data import TensorDataset, DataLoader\n",
    "\n",
    "from cnn_classifier import CNN\n",
    "\n",
    "import pandas as pd\n",
    "import seaborn as sns\n",
    "from matplotlib.colors import LinearSegmentedColormap\n",
    "\n",
    "from sklearn.neighbors import KNeighborsClassifier"
   ]
  },
  {
   "cell_type": "markdown",
   "id": "95d78af0",
   "metadata": {},
   "source": [
    "# Load dataset"
   ]
  },
  {
   "cell_type": "code",
   "execution_count": 29,
   "id": "133a8df2",
   "metadata": {},
   "outputs": [],
   "source": [
    "dataset = np.load(\"dataset.npz\")\n",
    "X, y = dataset[\"X\"], dataset[\"y\"]"
   ]
  },
  {
   "cell_type": "code",
   "execution_count": 30,
   "id": "d68fb999",
   "metadata": {},
   "outputs": [
    {
     "name": "stdout",
     "output_type": "stream",
     "text": [
      "Unique labels: [ 0  1  2  3  4  5  6  7  8  9 10 11 12 13 14]\n"
     ]
    }
   ],
   "source": [
    "k=10\n",
    "shape = (X[k].reshape(20,20))\n",
    "\n",
    "X = X / 255.0 \n",
    "random_state = 42\n",
    "\n",
    "\n",
    "X_tensor = torch.tensor(X, dtype=torch.float32).view(-1, 1, 20, 20)\n",
    "y_tensor = torch.tensor(y, dtype=torch.long)\n",
    "\n",
    "X_trainval, X_test, y_trainval, y_test = train_test_split(\n",
    "    X_tensor, y_tensor, test_size=0.2, stratify=y_tensor\n",
    ")\n",
    "\n",
    "train_loader = DataLoader(TensorDataset(X_trainval, y_trainval), batch_size=32, shuffle=True)\n",
    "test_loader = DataLoader(TensorDataset(X_test, y_test), batch_size=32, shuffle=False)\n",
    "\n",
    "print(\"Unique labels:\", np.unique(y_trainval.numpy()))"
   ]
  },
  {
   "cell_type": "code",
   "execution_count": null,
   "id": "dd9f71e4",
   "metadata": {},
   "outputs": [
    {
     "name": "stdout",
     "output_type": "stream",
     "text": [
      "Label for image 10: 3\n"
     ]
    },
    {
     "data": {
      "image/png": "[encoded data removed]",
      "text/plain": [
       "<Figure size 640x480 with 1 Axes>"
      ]
     },
     "metadata": {},
     "output_type": "display_data"
    }
   ],
   "source": [
    "flatten = shape.flatten()\n",
    "\n",
    "print(f\"Label for image {k}: {y[k]}\")\n",
    "plt.imshow(shape, vmin=0, vmax=255, cmap=\"gray\")\n",
    "plt.show()"
   ]
  },
  {
   "cell_type": "markdown",
   "id": "7a43316e",
   "metadata": {},
   "source": [
    "# Class distribution"
   ]
  },
  {
   "cell_type": "code",
   "execution_count": null,
   "id": "8ebfac39",
   "metadata": {},
   "outputs": [],
   "source": [
    "def class_dist(y):\n",
    "    unique, counts = np.unique(y, return_counts=True)\n",
    "    plt.bar(unique, counts)\n",
    "    plt.xlabel(\"Class\")\n",
    "    plt.ylabel(\"Count\")\n",
    "    plt.title(\"Class distribution\")\n",
    "    plt.show()"
   ]
  },
  {
   "cell_type": "code",
   "execution_count": null,
   "id": "631bf342",
   "metadata": {},
   "outputs": [],
   "source": [
    "def blurred():\n",
    "    means = []\n",
    "    for label in range(15):\n",
    "        means.append(X[y == label].mean(axis=0))\n",
    "\n",
    "    fig, axes = plt.subplots(3, 5, figsize=(8, 5))\n",
    "    for i, ax in enumerate(axes.flat):\n",
    "        ax.imshow(means[i].reshape(20, 20), cmap='gray')\n",
    "        ax.set_title(f\"Class {i}\")\n",
    "        ax.axis('off')\n",
    "    plt.show()\n",
    "    #If averages look very similar → classes are visually similar → use a deeper CNN.\n",
    "\n",
    "    # If they’re very distinct → your model can be smaller (simpler CNN)."
   ]
  },
  {
   "cell_type": "markdown",
   "id": "d8737617",
   "metadata": {},
   "source": [
    "# CNN"
   ]
  },
  {
   "cell_type": "code",
   "execution_count": null,
   "id": "685f2f4b",
   "metadata": {},
   "outputs": [],
   "source": [
    "param_grid = {\n",
    "    \"learning_rate\": [0.001, 0.0005],\n",
    "    \"dropout_rate\": [0.25, 0.5],\n",
    "    \"batch_size\": [32, 64],\n",
    "    \"weight_decay\": [0, 1e-4]\n",
    "}\n",
    "\n",
    "\n",
    "grid = GridSearchCV(CNN(), param_grid, cv=3, scoring='f1_weighted', n_jobs=-1, verbose=3)\n",
    "grid.fit(X_trainval, y_trainval)\n",
    "\n",
    "print(\"Best parameters:\", grid.best_params_)"
   ]
  },
  {
   "cell_type": "code",
   "execution_count": null,
   "id": "2c6c0a0a",
   "metadata": {},
   "outputs": [],
   "source": [
    "best_params = grid.best_params_\n",
    "\n",
    "best_model = CNN(\n",
    "    num_epochs=20,\n",
    "    batch_size=best_params[\"batch_size\"],\n",
    "    learning_rate=best_params[\"learning_rate\"],\n",
    "    dropout_rate=best_params[\"dropout_rate\"],\n",
    "    weight_decay=best_params[\"weight_decay\"],\n",
    "    verbose=True\n",
    ")\n",
    "\n",
    "best_model.fit(X_trainval, y_trainval)\n"
   ]
  },
  {
   "cell_type": "code",
   "execution_count": null,
   "id": "9c6e7c67",
   "metadata": {},
   "outputs": [],
   "source": [
    "test_acc = best_model.compute_accuracy(test_loader)\n",
    "y_pred = best_model.predict(X_test)\n",
    "test_f1 = f1_score(y_test, y_pred, average='weighted')\n",
    "\n",
    "print(f\"\\nTest Accuracy: {test_acc * 100:.2f}%\")\n",
    "print(f\"Weighted F1-score: {test_f1:.4f}\")\n",
    "print(classification_report(y_test, y_pred))"
   ]
  },
  {
   "cell_type": "code",
   "execution_count": null,
   "id": "7b46e582",
   "metadata": {},
   "outputs": [],
   "source": [
    "plt.figure(figsize=(6,4))\n",
    "plt.plot(best_model.train_loss_history, label='Training Loss')\n",
    "plt.xlabel('Epoch'); plt.ylabel('Loss'); plt.title('Training Loss Curve')\n",
    "plt.legend()\n",
    "plt.show()"
   ]
  },
  {
   "cell_type": "markdown",
   "id": "909b8a8f",
   "metadata": {},
   "source": [
    "# KNN"
   ]
  },
  {
   "cell_type": "code",
   "execution_count": 32,
   "id": "f8b68128",
   "metadata": {},
   "outputs": [
    {
     "name": "stdout",
     "output_type": "stream",
     "text": [
      "Best KNN parameters: {'metric': 'manhattan', 'n_neighbors': 5}\n",
      "KNN Classifier score: 74.33%\n"
     ]
    }
   ],
   "source": [
    "x_train, x_test, y_train, y_test = train_test_split(X, y, test_size=0.2, random_state=random_state)\n",
    "\n",
    "param_grid_knn = {\n",
    "    'n_neighbors': [2, 3, 4, 5, 6, 7],\n",
    "    'metric': ['euclidean', 'manhattan', 'minkowski', 'chebyshev']\n",
    "}\n",
    "\n",
    "knn = KNeighborsClassifier()\n",
    "\n",
    "grid_knn = GridSearchCV(knn, param_grid_knn, cv=5, scoring='f1_weighted', n_jobs=-1)\n",
    "grid_knn.fit(x_train, y_train)\n",
    "\n",
    "best_params_knn = grid_knn.best_params_\n",
    "print(f\"Best KNN parameters: {best_params_knn}\")\n",
    "\n",
    "knn = KNeighborsClassifier(**best_params_knn)\n",
    "\n",
    "knn.fit(x_train, y_train)\n",
    "y_pred = knn.predict(x_test)\n",
    "score = knn.score(x_test, y_test)\n",
    "print(f\"KNN Classifier score: {score * 100:.2f}%\") "
   ]
  },
  {
   "cell_type": "code",
   "execution_count": 35,
   "id": "3eeeff27",
   "metadata": {},
   "outputs": [
    {
     "data": {
      "image/png": "[encoded data removed]",
      "text/plain": [
       "<Figure size 800x600 with 2 Axes>"
      ]
     },
     "metadata": {},
     "output_type": "display_data"
    }
   ],
   "source": [
    "results = grid_knn.cv_results_\n",
    "scores = results['mean_test_score']\n",
    "params = results['params']\n",
    "\n",
    "df = pd.DataFrame(params)\n",
    "df['score'] = scores\n",
    "\n",
    "pivot = df.pivot(index='n_neighbors', columns='metric', values='score')\n",
    "\n",
    "bubble_to_hot_pink = LinearSegmentedColormap.from_list(\n",
    "    \"bubble_to_hot_pink\",\n",
    "    [\"#fec1d9\", \"#ffa6cb\", \"#ff82c3\", \"#ff0080ca\"], \n",
    "    N=256 \n",
    ")\n",
    "\n",
    "plt.figure(figsize=(8, 6))\n",
    "sns.heatmap(pivot, annot=True, fmt=\".3f\", cmap=bubble_to_hot_pink)\n",
    "plt.title(\"KNN Grid Search Mean F1 Score\", fontsize=14)\n",
    "plt.ylabel(\"n_neighbors\")\n",
    "plt.xlabel(\"metric\")\n",
    "plt.show()\n"
   ]
  },
  {
   "cell_type": "code",
   "execution_count": null,
   "id": "8d1bbd76",
   "metadata": {},
   "outputs": [],
   "source": [
    "misclassified = np.where(y_pred != y_test)[0]\n",
    "\n",
    "for idx in misclassified[:10]:\n",
    "    img = x_test[idx].reshape(20, 20) * 255 \n",
    "    plt.imshow(img, vmin=0, vmax=255, cmap=\"gray\")\n",
    "    plt.title(f\"True: {y_test[idx]}, Predicted: {y_pred[idx]}\")\n",
    "    plt.show()"
   ]
  }
 ],
 "metadata": {
  "kernelspec": {
   "display_name": ".venv",
   "language": "python",
   "name": "python3"
  },
  "language_info": {
   "codemirror_mode": {
    "name": "ipython",
    "version": 3
   },
   "file_extension": ".py",
   "mimetype": "text/x-python",
   "name": "python",
   "nbconvert_exporter": "python",
   "pygments_lexer": "ipython3",
   "version": "3.11.9"
  }
 },
 "nbformat": 4,
 "nbformat_minor": 5
}
