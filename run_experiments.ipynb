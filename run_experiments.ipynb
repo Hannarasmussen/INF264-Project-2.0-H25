{
 "cells": [
  {
   "cell_type": "markdown",
   "id": "379f4c31",
   "metadata": {},
   "source": [
    "\n",
    "# Import\n"
   ]
  },
  {
   "cell_type": "code",
   "execution_count": null,
   "id": "35ab683c",
   "metadata": {},
   "outputs": [],
   "source": [
    "import numpy as np\n",
    "\n",
    "import matplotlib.pyplot as plt\n",
    "\n",
    "from sklearn.model_selection import GridSearchCV\n",
    "from sklearn.metrics import f1_score, classification_report\n",
    "\n",
    "from sklearn.model_selection import train_test_split\n",
    "\n",
    "import torch\n",
    "import torch.nn.functional as F\n",
    "from torch.utils.data import TensorDataset, DataLoader\n",
    "\n",
    "from cnn_classifier import CNN\n",
    "\n",
    "import pandas as pd\n",
    "from matplotlib.colors import LinearSegmentedColormap\n",
    "\n",
    "from sklearn.neighbors import KNeighborsClassifier"
   ]
  },
  {
   "cell_type": "markdown",
   "id": "95d78af0",
   "metadata": {},
   "source": [
    "# Load dataset"
   ]
  },
  {
   "cell_type": "code",
   "execution_count": null,
   "id": "133a8df2",
   "metadata": {},
   "outputs": [],
   "source": [
    "dataset = np.load(\"dataset.npz\")\n",
    "X, y = dataset[\"X\"], dataset[\"y\"]"
   ]
  },
  {
   "cell_type": "code",
   "execution_count": null,
   "id": "d68fb999",
   "metadata": {},
   "outputs": [],
   "source": [
    "X = X / 255.0 \n",
    "random_state = 42\n",
    "\n",
    "X_trainval, X_test, y_trainval, y_test = train_test_split(\n",
    "    X, y, test_size=0.2, stratify=y, random_state=random_state\n",
    ")\n",
    "\n",
    "X_trainval_tensor = torch.tensor(X_trainval, dtype=torch.float32).view(-1, 1, 20, 20)\n",
    "y_trainval_tensor = torch.tensor(y_trainval, dtype=torch.long)\n",
    "\n",
    "X_test_tensor = torch.tensor(X_test, dtype=torch.float32).view(-1, 1, 20, 20)\n",
    "y_test_tensor = torch.tensor(y_test, dtype=torch.long)\n",
    "\n",
    "train_loader = DataLoader(TensorDataset(X_trainval_tensor, y_trainval_tensor), batch_size=32, shuffle=True)\n",
    "test_loader = DataLoader(TensorDataset(X_test_tensor, y_test_tensor), batch_size=32, shuffle=False)\n",
    "\n",
    "print(\"Unique labels:\", np.unique(y_trainval))"
   ]
  },
  {
   "cell_type": "code",
   "execution_count": null,
   "id": "dd9f71e4",
   "metadata": {},
   "outputs": [],
   "source": [
    "k=10\n",
    "\n",
    "shape = (X[k].reshape(20,20))\n",
    "flatten = shape.flatten()\n",
    "\n",
    "\n",
    "plt.imshow(shape, vmin=0, vmax=255, cmap=\"gray\")\n",
    "plt.show()"
   ]
  },
  {
   "cell_type": "markdown",
   "id": "7a43316e",
   "metadata": {},
   "source": [
    "# Class distribution"
   ]
  },
  {
   "cell_type": "code",
   "execution_count": null,
   "id": "8ebfac39",
   "metadata": {},
   "outputs": [],
   "source": [
    "def class_dist(y):\n",
    "    unique, counts = np.unique(y, return_counts=True)\n",
    "    plt.bar(unique, counts)\n",
    "    plt.xlabel(\"Class\")\n",
    "    plt.ylabel(\"Count\")\n",
    "    plt.title(\"Class distribution\")\n",
    "    plt.show()"
   ]
  },
  {
   "cell_type": "code",
   "execution_count": null,
   "id": "631bf342",
   "metadata": {},
   "outputs": [],
   "source": [
    "def blurred():\n",
    "    means = []\n",
    "    for label in range(15):\n",
    "        means.append(X[y == label].mean(axis=0))\n",
    "\n",
    "    fig, axes = plt.subplots(3, 5, figsize=(8, 5))\n",
    "    for i, ax in enumerate(axes.flat):\n",
    "        ax.imshow(means[i].reshape(20, 20), cmap='gray')\n",
    "        ax.set_title(f\"Class {i}\")\n",
    "        ax.axis('off')\n",
    "    plt.show()\n",
    "    #If averages look very similar → classes are visually similar → use a deeper CNN.\n",
    "\n",
    "    # If they’re very distinct → your model can be smaller (simpler CNN)."
   ]
  },
  {
   "cell_type": "markdown",
   "id": "d8737617",
   "metadata": {},
   "source": [
    "# CNN"
   ]
  },
  {
   "cell_type": "code",
   "execution_count": null,
   "id": "685f2f4b",
   "metadata": {},
   "outputs": [],
   "source": [
    "param_grid = {\n",
    "    \"learning_rate\": [0.001, 0.0005],\n",
    "    \"dropout_rate\": [0.25, 0.5],\n",
    "    \"batch_size\": [32, 64],\n",
    "    \"weight_decay\": [0, 1e-4],\n",
    "    \"random_state\": [random_state]\n",
    "}\n",
    "\n",
    "\n",
    "grid = GridSearchCV(CNN(), param_grid, cv=3, scoring='f1_weighted', n_jobs=-1, verbose=3)\n",
    "grid.fit(X_trainval_tensor, y_trainval_tensor)\n",
    "\n",
    "print(\"Best parameters:\", grid.best_params_)"
   ]
  },
  {
   "cell_type": "code",
   "execution_count": null,
   "id": "2c6c0a0a",
   "metadata": {},
   "outputs": [],
   "source": [
    "best_params = grid.best_params_\n",
    "\n",
    "best_model = CNN(\n",
    "    num_epochs=20,\n",
    "    batch_size=best_params[\"batch_size\"],\n",
    "    learning_rate=best_params[\"learning_rate\"],\n",
    "    dropout_rate=best_params[\"dropout_rate\"],\n",
    "    weight_decay=best_params[\"weight_decay\"],\n",
    "    verbose=True,\n",
    "    random_state=random_state\n",
    ")\n",
    "\n",
    "best_model.fit(X_trainval_tensor, y_trainval_tensor)\n"
   ]
  },
  {
   "cell_type": "code",
   "execution_count": null,
   "id": "9c6e7c67",
   "metadata": {},
   "outputs": [],
   "source": [
    "test_acc = best_model.compute_accuracy(test_loader)\n",
    "y_pred = best_model.predict(X_test_tensor)\n",
    "test_f1 = f1_score(y_test, y_pred, average='weighted')\n",
    "\n",
    "print(f\"\\nTest Accuracy: {test_acc * 100:.2f}%\")\n",
    "print(f\"Weighted F1-score: {test_f1:.4f}\")\n",
    "print(classification_report(y_test, y_pred))"
   ]
  },
  {
   "cell_type": "code",
   "execution_count": null,
   "id": "7b46e582",
   "metadata": {},
   "outputs": [],
   "source": [
    "plt.figure(figsize=(6,4))\n",
    "plt.plot(best_model.train_loss_history, label='Training Loss')\n",
    "plt.xlabel('Epoch'); plt.ylabel('Loss'); plt.title('Training Loss Curve')\n",
    "plt.legend()\n",
    "plt.show()"
   ]
  },
  {
   "cell_type": "markdown",
   "id": "909b8a8f",
   "metadata": {},
   "source": [
    "# KNN"
   ]
  },
  {
   "cell_type": "code",
   "execution_count": null,
   "id": "f8b68128",
   "metadata": {},
   "outputs": [],
   "source": [
    "x_train, x_test, y_train, y_test = train_test_split(X, y, test_size=0.2, random_state=random_state)\n",
    "\n",
    "param_grid_knn = {\n",
    "    'n_neighbors': [2, 3, 4, 5, 6, 7],\n",
    "    'metric': ['euclidean', 'manhattan', 'minkowski', 'chebyshev']\n",
    "}\n",
    "\n",
    "knn = KNeighborsClassifier()\n",
    "\n",
    "grid_knn = GridSearchCV(knn, param_grid_knn, cv=5, scoring='f1_weighted', n_jobs=-1)\n",
    "grid_knn.fit(x_train, y_train)\n",
    "\n",
    "best_params_knn = grid_knn.best_params_\n",
    "print(f\"Best KNN parameters: {best_params_knn}\")\n",
    "\n",
    "knn = KNeighborsClassifier(**best_params_knn)\n",
    "\n",
    "knn.fit(x_train, y_train)\n",
    "y_pred = knn.predict(x_test)\n",
    "score = knn.score(x_test, y_test)\n",
    "print(f\"KNN Classifier score: {score * 100:.2f}%\") "
   ]
  },
  {
   "cell_type": "code",
   "execution_count": null,
   "id": "3eeeff27",
   "metadata": {},
   "outputs": [],
   "source": [
    "\n",
    "\n",
    "results = grid_knn.cv_results_\n",
    "scores = results['mean_test_score']\n",
    "params = results['params']\n",
    "\n",
    "df = pd.DataFrame(params)\n",
    "df['score'] = scores\n",
    "\n",
    "pivot = df.pivot(index='n_neighbors', columns='metric', values='score')\n",
    "\n",
    "bubble_to_hot_pink = LinearSegmentedColormap.from_list(\n",
    "    \"bubble_to_hot_pink\",\n",
    "    [\"#fec1d9\", \"#ffa6cb\", \"#ff82c3\", \"#ff0080ca\"], \n",
    "    N=256 \n",
    ")\n",
    "\n",
    "plt.figure(figsize=(8, 6))\n",
    "plt.title(\"KNN Grid Search Mean F1 Score\", fontsize=14)\n",
    "plt.ylabel(\"n_neighbors\")\n",
    "plt.xlabel(\"metric\")\n",
    "plt.show()\n"
   ]
  },
  {
   "cell_type": "code",
   "execution_count": null,
   "id": "8d1bbd76",
   "metadata": {},
   "outputs": [],
   "source": [
    "misclassified = np.where(y_pred != y_test)[0]\n",
    "\n",
    "for idx in misclassified[:10]:\n",
    "    img = x_test[idx].reshape(20, 20) * 255 \n",
    "    plt.imshow(img, vmin=0, vmax=255, cmap=\"gray\")\n",
    "    plt.title(f\"True: {y_test[idx]}, Predicted: {y_pred[idx]}\")\n",
    "    plt.show()"
   ]
  },
  {
   "cell_type": "markdown",
   "id": "162b0ae3",
   "metadata": {},
   "source": [
    "# Problem 3"
   ]
  },
  {
   "cell_type": "code",
   "execution_count": null,
   "id": "ea54b255",
   "metadata": {},
   "outputs": [],
   "source": [
    "corrupted_dataset = np.load(\"dataset_corrupted.npz\")\n",
    "X_corrupted = corrupted_dataset[\"X\"] / 255.0 \n",
    "X_corrupted_tensor = torch.tensor(X_corrupted, dtype=torch.float32).view(-1, 1, 20, 20)\n",
    "X_corrupted_tensor = X_corrupted_tensor.to(best_model.device)\n",
    "\n",
    "\n",
    "best_model.model.eval()\n",
    "with torch.no_grad():\n",
    "    outputs = best_model.model(X_corrupted_tensor) \n",
    "    probs = F.softmax(outputs, dim=1)  \n",
    "\n",
    "max_probs = probs.max(dim=1).values\n",
    "\n",
    "threshold = 0.6\n",
    "\n",
    "ood_indices = (max_probs < threshold).nonzero(as_tuple=True)[0].cpu().numpy()\n",
    "print(f\"Found {len(ood_indices)} suspicious/corrupted images\")"
   ]
  },
  {
   "cell_type": "code",
   "execution_count": null,
   "id": "75489252",
   "metadata": {},
   "outputs": [],
   "source": [
    "for idx in ood_indices[:100]:\n",
    "    plt.imshow(X_corrupted[idx].reshape(20, 20), cmap=\"gray\")\n",
    "    plt.axis('off')\n",
    "    plt.show()"
   ]
  }
 ],
 "metadata": {
  "kernelspec": {
   "display_name": "INF264",
   "language": "python",
   "name": "python3"
  },
  "language_info": {
   "codemirror_mode": {
    "name": "ipython",
    "version": 3
   },
   "file_extension": ".py",
   "mimetype": "text/x-python",
   "name": "python",
   "nbconvert_exporter": "python",
   "pygments_lexer": "ipython3",
   "version": "3.12.11"
  }
 },
 "nbformat": 4,
 "nbformat_minor": 5
}
