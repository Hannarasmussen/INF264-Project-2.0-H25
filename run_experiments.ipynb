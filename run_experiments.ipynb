{
 "cells": [
  {
   "cell_type": "markdown",
   "id": "379f4c31",
   "metadata": {},
   "source": [
    "\n",
    "# Import\n"
   ]
  },
  {
   "cell_type": "code",
   "execution_count": 42,
   "id": "35ab683c",
   "metadata": {},
   "outputs": [],
   "source": [
    "import numpy as np\n",
    "\n",
    "import matplotlib.pyplot as plt\n",
    "\n",
    "from sklearn.model_selection import GridSearchCV\n",
    "from sklearn.metrics import f1_score, classification_report\n",
    "\n",
    "from sklearn.model_selection import train_test_split\n",
    "\n",
    "import torch \n",
    "import torch.nn as nn\n",
    "import torch.nn.functional as F\n",
    "import torch.optim as optim \n",
    "from torch.utils.data import TensorDataset, DataLoader\n",
    "\n",
    "from gift_cnn import gift_cnn\n",
    "from cnn_classifier import CNN"
   ]
  },
  {
   "cell_type": "markdown",
   "id": "95d78af0",
   "metadata": {},
   "source": [
    "# Load dataset"
   ]
  },
  {
   "cell_type": "code",
   "execution_count": 48,
   "id": "133a8df2",
   "metadata": {},
   "outputs": [
    {
     "name": "stdout",
     "output_type": "stream",
     "text": [
      "Number of images: 13067\n",
      "Number of labels: 13067\n",
      "Unique labels: [ 0  1  2  3  4  5  6  7  8  9 10 11 12 13 14]\n"
     ]
    }
   ],
   "source": [
    "dataset = np.load(\"dataset.npz\")\n",
    "X, y = dataset[\"X\"], dataset[\"y\"]\n",
    "\n",
    "print(\"Number of images:\", X.shape[0])\n",
    "print(\"Number of labels:\", y.shape[0])\n",
    "print(\"Unique labels:\", np.unique(y))\n"
   ]
  },
  {
   "cell_type": "code",
   "execution_count": 49,
   "id": "d68fb999",
   "metadata": {},
   "outputs": [],
   "source": [
    "X = X / 255.0 "
   ]
  },
  {
   "cell_type": "code",
   "execution_count": 50,
   "id": "dd9f71e4",
   "metadata": {},
   "outputs": [
    {
     "data": {
      "image/png": "[encoded data removed]",
      "text/plain": [
       "<Figure size 640x480 with 1 Axes>"
      ]
     },
     "metadata": {},
     "output_type": "display_data"
    }
   ],
   "source": [
    "#vislualize\n",
    "\n",
    "#chosen image\n",
    "k=10\n",
    "\n",
    "shape = (X[k].reshape(20,20))\n",
    "flatten = shape.flatten()\n",
    "\n",
    "\n",
    "plt.imshow(shape, vmin=0, vmax=255, cmap=\"gray\")\n",
    "plt.show()"
   ]
  },
  {
   "cell_type": "markdown",
   "id": "7a43316e",
   "metadata": {},
   "source": [
    "# Class distribution"
   ]
  },
  {
   "cell_type": "code",
   "execution_count": 51,
   "id": "8ebfac39",
   "metadata": {},
   "outputs": [],
   "source": [
    "def class_dist(y):\n",
    "    unique, counts = np.unique(y, return_counts=True)\n",
    "    plt.bar(unique, counts)\n",
    "    plt.xlabel(\"Class\")\n",
    "    plt.ylabel(\"Count\")\n",
    "    plt.title(\"Class distribution\")\n",
    "    plt.show()"
   ]
  },
  {
   "cell_type": "code",
   "execution_count": 41,
   "id": "631bf342",
   "metadata": {},
   "outputs": [],
   "source": [
    "def blurred():\n",
    "    means = []\n",
    "    for label in range(15):\n",
    "        means.append(X[y == label].mean(axis=0))\n",
    "\n",
    "    fig, axes = plt.subplots(3, 5, figsize=(8, 5))\n",
    "    for i, ax in enumerate(axes.flat):\n",
    "        ax.imshow(means[i].reshape(20, 20), cmap='gray')\n",
    "        ax.set_title(f\"Class {i}\")\n",
    "        ax.axis('off')\n",
    "    plt.show()\n",
    "    #If averages look very similar → classes are visually similar → use a deeper CNN.\n",
    "\n",
    "    # If they’re very distinct → your model can be smaller (simpler CNN)."
   ]
  },
  {
   "cell_type": "markdown",
   "id": "d8737617",
   "metadata": {},
   "source": [
    "# CNN"
   ]
  },
  {
   "cell_type": "code",
   "execution_count": 52,
   "id": "c2c48fd4",
   "metadata": {},
   "outputs": [],
   "source": [
    "dataset = np.load(\"dataset.npz\")\n",
    "X, y = dataset[\"X\"], dataset[\"y\"]\n",
    "X = X / 255.0\n",
    "X_tensor = torch.tensor(X, dtype=torch.float32).view(-1, 1, 20, 20)\n",
    "y_tensor = torch.tensor(y, dtype=torch.long)\n",
    "\n",
    "X_trainval, X_test, y_trainval, y_test = train_test_split(\n",
    "    X_tensor, y_tensor, test_size=0.2, stratify=y_tensor\n",
    ")\n",
    "\n",
    "train_loader = DataLoader(TensorDataset(X_trainval, y_trainval), batch_size=32, shuffle=True)\n",
    "test_loader = DataLoader(TensorDataset(X_test, y_test), batch_size=32, shuffle=False)\n"
   ]
  },
  {
   "cell_type": "code",
   "execution_count": null,
   "id": "685f2f4b",
   "metadata": {},
   "outputs": [
    {
     "name": "stdout",
     "output_type": "stream",
     "text": [
      "Fitting 3 folds for each of 16 candidates, totalling 48 fits\n",
      "[CV 2/3] END batch_size=32, dropout_rate=0.25, learning_rate=0.001, weight_decay=0;, score=0.835 total time= 1.7min\n",
      "[CV 2/3] END batch_size=32, dropout_rate=0.25, learning_rate=0.0005, weight_decay=0;, score=0.832 total time= 1.7min\n",
      "[CV 1/3] END batch_size=32, dropout_rate=0.25, learning_rate=0.001, weight_decay=0;, score=0.832 total time= 1.7min\n",
      "[CV 1/3] END batch_size=32, dropout_rate=0.25, learning_rate=0.0005, weight_decay=0;, score=0.827 total time= 1.7min\n",
      "[CV 1/3] END batch_size=32, dropout_rate=0.25, learning_rate=0.001, weight_decay=0.0001;, score=0.824 total time= 1.7min\n",
      "[CV 3/3] END batch_size=32, dropout_rate=0.25, learning_rate=0.001, weight_decay=0;, score=0.834 total time= 1.7min\n",
      "[CV 3/3] END batch_size=32, dropout_rate=0.25, learning_rate=0.001, weight_decay=0.0001;, score=0.831 total time= 1.7min\n",
      "[CV 2/3] END batch_size=32, dropout_rate=0.25, learning_rate=0.001, weight_decay=0.0001;, score=0.841 total time= 1.7min\n",
      "[CV 3/3] END batch_size=32, dropout_rate=0.25, learning_rate=0.0005, weight_decay=0;, score=0.831 total time= 1.6min\n",
      "[CV 2/3] END batch_size=32, dropout_rate=0.25, learning_rate=0.0005, weight_decay=0.0001;, score=0.829 total time= 1.6min\n",
      "[CV 3/3] END batch_size=32, dropout_rate=0.25, learning_rate=0.0005, weight_decay=0.0001;, score=0.831 total time= 1.7min\n",
      "[CV 1/3] END batch_size=32, dropout_rate=0.25, learning_rate=0.0005, weight_decay=0.0001;, score=0.834 total time= 1.7min\n",
      "[CV 1/3] END batch_size=32, dropout_rate=0.5, learning_rate=0.001, weight_decay=0;, score=0.831 total time= 1.7min\n",
      "[CV 2/3] END batch_size=32, dropout_rate=0.5, learning_rate=0.001, weight_decay=0;, score=0.836 total time= 1.7min\n",
      "[CV 3/3] END batch_size=32, dropout_rate=0.5, learning_rate=0.001, weight_decay=0;, score=0.829 total time= 1.7min\n",
      "[CV 1/3] END batch_size=32, dropout_rate=0.5, learning_rate=0.001, weight_decay=0.0001;, score=0.833 total time= 1.6min\n",
      "[CV 2/3] END batch_size=32, dropout_rate=0.5, learning_rate=0.001, weight_decay=0.0001;, score=0.827 total time= 1.7min\n",
      "[CV 3/3] END batch_size=32, dropout_rate=0.5, learning_rate=0.0005, weight_decay=0;, score=0.832 total time= 1.7min\n",
      "[CV 1/3] END batch_size=32, dropout_rate=0.5, learning_rate=0.0005, weight_decay=0;, score=0.821 total time= 1.7min\n",
      "[CV 3/3] END batch_size=32, dropout_rate=0.5, learning_rate=0.0005, weight_decay=0.0001;, score=0.831 total time= 1.7min\n",
      "[CV 3/3] END batch_size=32, dropout_rate=0.5, learning_rate=0.001, weight_decay=0.0001;, score=0.830 total time= 1.7min\n",
      "[CV 2/3] END batch_size=32, dropout_rate=0.5, learning_rate=0.0005, weight_decay=0;, score=0.823 total time= 1.7min\n",
      "[CV 1/3] END batch_size=32, dropout_rate=0.5, learning_rate=0.0005, weight_decay=0.0001;, score=0.824 total time= 1.7min\n",
      "[CV 2/3] END batch_size=32, dropout_rate=0.5, learning_rate=0.0005, weight_decay=0.0001;, score=0.833 total time= 1.7min\n",
      "[CV 1/3] END batch_size=64, dropout_rate=0.25, learning_rate=0.001, weight_decay=0;, score=0.836 total time= 1.6min\n",
      "[CV 2/3] END batch_size=64, dropout_rate=0.25, learning_rate=0.001, weight_decay=0;, score=0.832 total time= 1.6min\n",
      "[CV 3/3] END batch_size=64, dropout_rate=0.25, learning_rate=0.001, weight_decay=0;, score=0.824 total time= 1.6min\n",
      "[CV 2/3] END batch_size=64, dropout_rate=0.25, learning_rate=0.001, weight_decay=0.0001;, score=0.838 total time= 1.6min\n",
      "[CV 1/3] END batch_size=64, dropout_rate=0.25, learning_rate=0.001, weight_decay=0.0001;, score=0.827 total time= 1.6min\n",
      "[CV 1/3] END batch_size=64, dropout_rate=0.25, learning_rate=0.0005, weight_decay=0;, score=0.820 total time= 1.6min\n",
      "[CV 3/3] END batch_size=64, dropout_rate=0.25, learning_rate=0.001, weight_decay=0.0001;, score=0.828 total time= 1.6min\n",
      "[CV 2/3] END batch_size=64, dropout_rate=0.25, learning_rate=0.0005, weight_decay=0;, score=0.833 total time= 1.6min\n",
      "[CV 3/3] END batch_size=64, dropout_rate=0.25, learning_rate=0.0005, weight_decay=0;, score=0.832 total time= 1.6min\n",
      "[CV 3/3] END batch_size=64, dropout_rate=0.25, learning_rate=0.0005, weight_decay=0.0001;, score=0.812 total time= 1.6min\n",
      "[CV 2/3] END batch_size=64, dropout_rate=0.25, learning_rate=0.0005, weight_decay=0.0001;, score=0.827 total time= 1.6min\n",
      "[CV 1/3] END batch_size=64, dropout_rate=0.5, learning_rate=0.001, weight_decay=0;, score=0.838 total time= 1.6min\n",
      "[CV 1/3] END batch_size=64, dropout_rate=0.25, learning_rate=0.0005, weight_decay=0.0001;, score=0.833 total time= 1.6min\n",
      "[CV 2/3] END batch_size=64, dropout_rate=0.5, learning_rate=0.001, weight_decay=0;, score=0.823 total time= 1.6min\n",
      "[CV 3/3] END batch_size=64, dropout_rate=0.5, learning_rate=0.001, weight_decay=0;, score=0.828 total time= 1.6min\n",
      "[CV 1/3] END batch_size=64, dropout_rate=0.5, learning_rate=0.001, weight_decay=0.0001;, score=0.836 total time= 1.6min\n",
      "[CV 2/3] END batch_size=64, dropout_rate=0.5, learning_rate=0.001, weight_decay=0.0001;, score=0.838 total time= 1.6min\n",
      "[CV 3/3] END batch_size=64, dropout_rate=0.5, learning_rate=0.001, weight_decay=0.0001;, score=0.836 total time= 1.6min\n",
      "[CV 1/3] END batch_size=64, dropout_rate=0.5, learning_rate=0.0005, weight_decay=0;, score=0.821 total time= 1.6min\n",
      "[CV 3/3] END batch_size=64, dropout_rate=0.5, learning_rate=0.0005, weight_decay=0;, score=0.816 total time= 1.6min\n",
      "[CV 2/3] END batch_size=64, dropout_rate=0.5, learning_rate=0.0005, weight_decay=0;, score=0.810 total time= 1.6min\n",
      "[CV 1/3] END batch_size=64, dropout_rate=0.5, learning_rate=0.0005, weight_decay=0.0001;, score=0.817 total time= 1.6min\n",
      "[CV 2/3] END batch_size=64, dropout_rate=0.5, learning_rate=0.0005, weight_decay=0.0001;, score=0.827 total time= 1.6min\n",
      "[CV 3/3] END batch_size=64, dropout_rate=0.5, learning_rate=0.0005, weight_decay=0.0001;, score=0.822 total time= 1.6min\n",
      "✅ Best parameters: {'batch_size': 64, 'dropout_rate': 0.5, 'learning_rate': 0.001, 'weight_decay': 0.0001}\n"
     ]
    }
   ],
   "source": [
    "param_grid = {\n",
    "    \"learning_rate\": [0.001, 0.0005],\n",
    "    \"dropout_rate\": [0.25, 0.5],\n",
    "    \"batch_size\": [32, 64],\n",
    "    \"weight_decay\": [0, 1e-4]\n",
    "}\n",
    "\n",
    "\n",
    "grid = GridSearchCV(CNN(), param_grid, cv=3, scoring='f1_weighted', n_jobs=-1, verbose=3)\n",
    "grid.fit(X_trainval, y_trainval)\n",
    "\n",
    "print(\"Best parameters:\", grid.best_params_)"
   ]
  },
  {
   "cell_type": "code",
   "execution_count": 28,
   "id": "2c6c0a0a",
   "metadata": {},
   "outputs": [
    {
     "name": "stdout",
     "output_type": "stream",
     "text": [
      "Epoch [1/20] - Loss: 1.7918, Val Acc: 68.53%\n",
      "Epoch [2/20] - Loss: 1.1057, Val Acc: 75.23%\n",
      "Epoch [3/20] - Loss: 0.9171, Val Acc: 77.19%\n",
      "Epoch [4/20] - Loss: 0.8213, Val Acc: 78.24%\n",
      "Epoch [5/20] - Loss: 0.7778, Val Acc: 79.44%\n",
      "Epoch [6/20] - Loss: 0.7249, Val Acc: 82.26%\n",
      "Epoch [7/20] - Loss: 0.6804, Val Acc: 82.21%\n",
      "Epoch [8/20] - Loss: 0.6425, Val Acc: 83.02%\n",
      "Epoch [9/20] - Loss: 0.6127, Val Acc: 83.79%\n",
      "Epoch [10/20] - Loss: 0.5869, Val Acc: 83.26%\n",
      "Epoch [11/20] - Loss: 0.5635, Val Acc: 84.74%\n",
      "Epoch [12/20] - Loss: 0.5462, Val Acc: 84.17%\n",
      "Epoch [13/20] - Loss: 0.5221, Val Acc: 85.08%\n",
      "Epoch [14/20] - Loss: 0.4973, Val Acc: 84.31%\n",
      "Epoch [15/20] - Loss: 0.4787, Val Acc: 85.80%\n",
      "Epoch [16/20] - Loss: 0.4780, Val Acc: 85.65%\n",
      "Epoch [17/20] - Loss: 0.4544, Val Acc: 83.79%\n",
      "Epoch [18/20] - Loss: 0.4403, Val Acc: 85.37%\n",
      "Epoch [19/20] - Loss: 0.4186, Val Acc: 85.51%\n",
      "Epoch [20/20] - Loss: 0.4134, Val Acc: 85.03%\n"
     ]
    },
    {
     "data": {
      "text/plain": [
       "<cnn_classifier.CNN at 0x3074c5df0>"
      ]
     },
     "execution_count": 28,
     "metadata": {},
     "output_type": "execute_result"
    }
   ],
   "source": [
    "best_params = grid.best_params_\n",
    "\n",
    "best_model = CNN(\n",
    "    num_epochs=20,\n",
    "    batch_size=best_params[\"batch_size\"],\n",
    "    learning_rate=best_params[\"learning_rate\"],\n",
    "    dropout_rate=best_params[\"dropout_rate\"],\n",
    "    weight_decay=best_params[\"weight_decay\"],\n",
    "    verbose=True\n",
    ")\n",
    "\n",
    "best_model.fit(X_trainval, y_trainval)\n"
   ]
  },
  {
   "cell_type": "code",
   "execution_count": 35,
   "id": "9c6e7c67",
   "metadata": {},
   "outputs": [
    {
     "name": "stdout",
     "output_type": "stream",
     "text": [
      "\n",
      "Test Accuracy: 82.75%\n",
      "Weighted F1-score: 0.8259\n",
      "              precision    recall  f1-score   support\n",
      "\n",
      "           0       0.89      0.87      0.88       109\n",
      "           1       0.68      0.74      0.71       180\n",
      "           2       0.96      0.91      0.94       161\n",
      "           3       0.74      0.59      0.66        91\n",
      "           4       0.66      0.58      0.62       204\n",
      "           5       0.90      0.92      0.91       273\n",
      "           6       0.90      0.91      0.91       172\n",
      "           7       0.67      0.54      0.60       111\n",
      "           8       0.94      0.95      0.94       178\n",
      "           9       0.90      0.85      0.88       167\n",
      "          10       0.87      0.82      0.84       156\n",
      "          11       0.70      0.78      0.74       320\n",
      "          12       0.79      0.81      0.80       140\n",
      "          13       0.84      0.95      0.90       177\n",
      "          14       1.00      1.00      1.00       175\n",
      "\n",
      "    accuracy                           0.83      2614\n",
      "   macro avg       0.83      0.82      0.82      2614\n",
      "weighted avg       0.83      0.83      0.83      2614\n",
      "\n"
     ]
    }
   ],
   "source": [
    "test_acc = best_model.compute_accuracy(test_loader)\n",
    "y_pred = best_model.predict(X_test)\n",
    "test_f1 = f1_score(y_test, y_pred, average='weighted')\n",
    "\n",
    "print(f\"\\nTest Accuracy: {test_acc * 100:.2f}%\")\n",
    "print(f\"Weighted F1-score: {test_f1:.4f}\")\n",
    "print(classification_report(y_test, y_pred))"
   ]
  },
  {
   "cell_type": "code",
   "execution_count": 36,
   "id": "7b46e582",
   "metadata": {},
   "outputs": [
    {
     "data": {
      "image/png": "[encoded data removed]",
      "text/plain": [
       "<Figure size 600x400 with 1 Axes>"
      ]
     },
     "metadata": {},
     "output_type": "display_data"
    }
   ],
   "source": [
    "plt.figure(figsize=(6,4))\n",
    "plt.plot(best_model.train_loss_history, label='Training Loss')\n",
    "plt.xlabel('Epoch'); plt.ylabel('Loss'); plt.title('Training Loss Curve')\n",
    "plt.legend()\n",
    "plt.show()"
   ]
  }
 ],
 "metadata": {
  "kernelspec": {
   "display_name": "INF264",
   "language": "python",
   "name": "python3"
  },
  "language_info": {
   "codemirror_mode": {
    "name": "ipython",
    "version": 3
   },
   "file_extension": ".py",
   "mimetype": "text/x-python",
   "name": "python",
   "nbconvert_exporter": "python",
   "pygments_lexer": "ipython3",
   "version": "3.12.11"
  }
 },
 "nbformat": 4,
 "nbformat_minor": 5
}
