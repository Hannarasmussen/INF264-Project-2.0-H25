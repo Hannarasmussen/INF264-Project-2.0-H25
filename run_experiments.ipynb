{
 "cells": [
  {
   "cell_type": "code",
   "execution_count": null,
   "id": "35ab683c",
   "metadata": {},
   "outputs": [],
   "source": [
    "import numpy as np\n",
    "import matplotlib.pyplot as plt\n",
    "\n",
    "\n",
    "\n"
   ]
  },
  {
   "cell_type": "code",
   "execution_count": null,
   "id": "133a8df2",
   "metadata": {},
   "outputs": [],
   "source": [
    "dataset = np.load(\"dataset.npz\")\n",
    "X, y = dataset[\"X\"], dataset[\"y\"]"
   ]
  },
  {
   "cell_type": "code",
   "execution_count": null,
   "id": "dd9f71e4",
   "metadata": {},
   "outputs": [],
   "source": [
    "#vislualize\n",
    "\n",
    "#chosen image\n",
    "k=10\n",
    "\n",
    "shape = (X[k].reshape(20,20))\n",
    "flatten = shape.flatten()\n",
    "\n",
    "\n",
    "plt.imshow(shape, vmin=0, vmax=255, cmap=\"gray\")\n",
    "plt.show()"
   ]
  },
  {
   "cell_type": "code",
   "execution_count": null,
   "id": "72d75227",
   "metadata": {},
   "outputs": [],
   "source": [
    "dataset = np.load(\"dataset_corrupted.npz\")\n",
    "X, y = dataset[\"X\"], dataset[\"y\"]"
   ]
  }
 ],
 "metadata": {
  "kernelspec": {
   "display_name": "INF264",
   "language": "python",
   "name": "python3"
  },
  "language_info": {
   "codemirror_mode": {
    "name": "ipython",
    "version": 3
   },
   "file_extension": ".py",
   "mimetype": "text/x-python",
   "name": "python",
   "nbconvert_exporter": "python",
   "pygments_lexer": "ipython3",
   "version": "3.13.7"
  }
 },
 "nbformat": 4,
 "nbformat_minor": 5
}
