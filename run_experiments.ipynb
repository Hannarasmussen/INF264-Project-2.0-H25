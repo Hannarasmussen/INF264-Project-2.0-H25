{
 "cells": [
  {
   "cell_type": "markdown",
   "id": "379f4c31",
   "metadata": {},
   "source": [
    "### Import\n"
   ]
  },
  {
   "cell_type": "code",
   "execution_count": null,
   "id": "35ab683c",
   "metadata": {},
   "outputs": [],
   "source": [
    "import numpy as np\n",
    "\n",
    "import matplotlib.pyplot as plt\n",
    "\n",
    "from sklearn.model_selection import GridSearchCV\n",
    "from sklearn.metrics import f1_score, classification_report\n",
    "\n",
    "from sklearn.model_selection import train_test_split\n",
    "\n",
    "import torch\n",
    "import torch.nn.functional as F\n",
    "from torch.utils.data import TensorDataset, DataLoader\n",
    "\n",
    "from cnn_classifier import CNN\n",
    "\n",
    "import pandas as pd\n",
    "import seaborn as sns\n",
    "from matplotlib.colors import LinearSegmentedColormap\n",
    "\n",
    "from sklearn.neighbors import KNeighborsClassifier\n",
    "from sklearn.preprocessing import StandardScaler\n",
    "\n",
    "from sklearn.decomposition import PCA\n",
    "from sklearn.pipeline import Pipeline\n",
    "\n",
    "import time\n",
    "\n"
   ]
  },
  {
   "cell_type": "markdown",
   "id": "95d78af0",
   "metadata": {},
   "source": [
    "### Load dataset"
   ]
  },
  {
   "cell_type": "code",
   "execution_count": null,
   "id": "133a8df2",
   "metadata": {},
   "outputs": [],
   "source": [
    "dataset = np.load(\"dataset.npz\")\n",
    "X, y = dataset[\"X\"], dataset[\"y\"]"
   ]
  },
  {
   "cell_type": "code",
   "execution_count": null,
   "id": "85fa3e87",
   "metadata": {},
   "outputs": [],
   "source": [
    "k=10\n",
    "shape = (X[k].reshape(20,20))\n",
    "flatten = shape.flatten()\n",
    "\n",
    "print(f\"Label for image {k}: {y[k]}\")\n",
    "plt.imshow(shape, vmin=0, vmax=255, cmap=\"gray\")\n",
    "plt.show()"
   ]
  },
  {
   "cell_type": "code",
   "execution_count": null,
   "id": "d68fb999",
   "metadata": {},
   "outputs": [],
   "source": [
    "random_state = 42\n",
    "\n",
    "X_trainval, X_test, y_trainval, y_test = train_test_split(\n",
    "    X, y, test_size=0.2, stratify=y, random_state=random_state\n",
    ")\n",
    "\n",
    "X_trainval_tensor = torch.tensor(X_trainval, dtype=torch.float32)\n",
    "y_trainval_tensor = torch.tensor(y_trainval, dtype=torch.long)\n",
    "\n",
    "X_test_tensor = torch.tensor(X_test, dtype=torch.float32)\n",
    "y_test_tensor = torch.tensor(y_test, dtype=torch.long)\n",
    "\n",
    "print(\"Unique labels:\", np.unique(y_trainval))"
   ]
  },
  {
   "cell_type": "markdown",
   "id": "7a43316e",
   "metadata": {},
   "source": [
    "## Class distribution"
   ]
  },
  {
   "cell_type": "code",
   "execution_count": null,
   "id": "8ebfac39",
   "metadata": {},
   "outputs": [],
   "source": [
    "def class_dist(y):\n",
    "    unique, counts = np.unique(y, return_counts=True)\n",
    "    plt.bar(unique, counts)\n",
    "    plt.xlabel(\"Class\")\n",
    "    plt.ylabel(\"Count\")\n",
    "    plt.title(\"Class distribution\")\n",
    "    plt.show()\n",
    "class_dist(y_trainval)"
   ]
  },
  {
   "cell_type": "code",
   "execution_count": null,
   "id": "631bf342",
   "metadata": {},
   "outputs": [],
   "source": [
    "def blurred():\n",
    "    means = []\n",
    "    for label in range(15):\n",
    "        means.append(X_trainval[y_trainval == label].mean(axis=0))\n",
    "\n",
    "    fig, axes = plt.subplots(3, 5, figsize=(8, 5))\n",
    "    for i, ax in enumerate(axes.flat):\n",
    "        ax.imshow(means[i].reshape(20, 20), cmap='gray')\n",
    "        ax.set_title(f\"Class {i}\")\n",
    "        ax.axis('off')\n",
    "    plt.show()\n",
    "\n",
    "blurred()"
   ]
  },
  {
   "cell_type": "markdown",
   "id": "d8737617",
   "metadata": {},
   "source": [
    "# CNN"
   ]
  },
  {
   "cell_type": "code",
   "execution_count": null,
   "id": "685f2f4b",
   "metadata": {},
   "outputs": [],
   "source": [
    "pipeline = Pipeline([\n",
    "            ('scaler', StandardScaler()),\n",
    "            ('cnn', CNN())\n",
    "        ])\n",
    "\n",
    "param_grid = {\n",
    "   \"cnn__learning_rate\": [0.001, 0.0005],\n",
    "   \"cnn__dropout_rate\": [0.25, 0.5],\n",
    "   \"cnn__batch_size\": [32, 64],\n",
    "   \"cnn__weight_decay\": [0, 1e-4],\n",
    "   \"cnn__random_state\": [random_state]\n",
    "}\n",
    "\n",
    "grid = GridSearchCV(pipeline, param_grid, cv=3, scoring='f1_weighted', n_jobs=-1, verbose=3)\n",
    "grid.fit(X_trainval, y_trainval)\n",
    "\n",
    "print(\"Best parameters:\", grid.best_params_)"
   ]
  },
  {
   "cell_type": "code",
   "execution_count": null,
   "id": "2c6c0a0a",
   "metadata": {},
   "outputs": [],
   "source": [
    "best_model = grid.best_estimator_[\"cnn\"]\n",
    "best_model_scaler = grid.best_estimator_[\"scaler\"]"
   ]
  },
  {
   "cell_type": "code",
   "execution_count": null,
   "id": "9c6e7c67",
   "metadata": {},
   "outputs": [],
   "source": [
    "X_test = best_model_scaler.transform(X_test)\n",
    "test_acc = best_model.compute_accuracy(X_test, y_test)\n",
    "y_pred = best_model.predict(X_test)\n",
    "test_f1 = f1_score(y_test, y_pred, average='weighted')\n",
    "\n",
    "print(f\"\\nTest Accuracy: {test_acc * 100:.2f}%\")\n",
    "print(f\"Weighted F1-score: {test_f1:.4f}\")\n",
    "print(classification_report(y_test, y_pred))"
   ]
  },
  {
   "cell_type": "markdown",
   "id": "992a0e8f",
   "metadata": {},
   "source": [
    "##### Plotting Training Loss"
   ]
  },
  {
   "cell_type": "code",
   "execution_count": null,
   "id": "7b46e582",
   "metadata": {},
   "outputs": [],
   "source": [
    "plt.figure(figsize=(6,4))\n",
    "plt.plot(best_model.train_loss_history, label='Training Loss')\n",
    "plt.xlabel('Epoch'); plt.ylabel('Loss'); plt.title('Training Loss Curve')\n",
    "plt.legend()\n",
    "plt.show()"
   ]
  },
  {
   "cell_type": "markdown",
   "id": "909b8a8f",
   "metadata": {},
   "source": [
    "# KNN"
   ]
  },
  {
   "cell_type": "code",
   "execution_count": null,
   "id": "f8b68128",
   "metadata": {},
   "outputs": [],
   "source": [
    "x_train, x_test, y_train, y_test = train_test_split(X, y, test_size=0.2, random_state=random_state)\n",
    "\n",
    "param_grid_knn = {\n",
    "    'classifier__n_neighbors': [2, 3, 4, 5, 6, 7],\n",
    "    'classifier__metric': ['euclidean', 'manhattan', 'minkowski', 'chebyshev']\n",
    "}\n",
    "\n",
    "param_grid_pca = {\n",
    "    'pca__n_components': [0.70, 0.80, 0.90, 0.95]\n",
    "}\n",
    "\n",
    "def choose_pipeline(classifier, pca=False):\n",
    "    if pca:\n",
    "        return Pipeline([\n",
    "            ('scaler', StandardScaler()),\n",
    "            ('pca', PCA(n_components=0.95)),\n",
    "            ('classifier', classifier)\n",
    "        ])\n",
    "    else:\n",
    "        return Pipeline([\n",
    "            ('scaler', StandardScaler()),\n",
    "            ('classifier', classifier)\n",
    "        ])\n",
    "\n",
    "def knn_function(pca=False):\n",
    "    pipeline = choose_pipeline(KNeighborsClassifier(), pca)\n",
    "    if pca:\n",
    "        param_grid_knn.update(param_grid_pca)\n",
    "        \n",
    "    grid_knn = GridSearchCV(pipeline, param_grid_knn, cv=3, scoring='f1_weighted', n_jobs=-1)\n",
    "    time_start = time.time()\n",
    "    grid_knn.fit(x_train, y_train)\n",
    "    time_elapsed_training = time.time() - time_start\n",
    "\n",
    "    best_model = grid_knn.best_estimator_\n",
    "    \n",
    "    time_start = time.time()\n",
    "    y_pred = grid_knn.predict(x_test) \n",
    "    time_elapsed_prediction = time.time() - time_start\n",
    "    \n",
    "    score = grid_knn.score(x_test, y_test)\n",
    "    \n",
    "    print(f\"KNN training time: {time_elapsed_training:.4f} seconds\")\n",
    "    print(f\"KNN prediction time: {time_elapsed_prediction:.4f} seconds\")\n",
    "    print(f\"KNN Classifier score: {score * 100:.2f}%\") \n",
    "    \n",
    "    return best_model, y_pred, grid_knn, score, time_elapsed_training, time_elapsed_prediction"
   ]
  },
  {
   "cell_type": "markdown",
   "id": "1efc3151",
   "metadata": {},
   "source": [
    "#### Running KNN Problem 1"
   ]
  },
  {
   "cell_type": "code",
   "execution_count": null,
   "id": "24f56661",
   "metadata": {},
   "outputs": [],
   "source": [
    "best_model_knn, y_pred, grid_knn, score, train_time, pred_time = knn_function(pca=False) "
   ]
  },
  {
   "cell_type": "markdown",
   "id": "7d296d41",
   "metadata": {},
   "source": [
    "##### Vizualising for KNN"
   ]
  },
  {
   "cell_type": "code",
   "execution_count": null,
   "id": "4b542e55",
   "metadata": {},
   "outputs": [],
   "source": [
    "results = grid_knn.cv_results_\n",
    "scores = results['mean_test_score']\n",
    "params = results['params']\n",
    "\n",
    "df = pd.DataFrame(params)\n",
    "df['score'] = scores\n",
    "\n",
    "pivot = df.pivot(index='n_neighbors', columns='metric', values='score')\n",
    "\n",
    "bubble_to_hot_pink = LinearSegmentedColormap.from_list(\n",
    "    \"bubble_to_hot_pink\",\n",
    "    [\"#fec1d9\", \"#ffa6cb\", \"#ff82c3\", \"#ff0080ca\"], \n",
    "    N=256 \n",
    ")\n",
    "\n",
    "plt.figure(figsize=(8, 6))\n",
    "sns.heatmap(pivot, annot=True, fmt=\".3f\", cmap=bubble_to_hot_pink)\n",
    "plt.title(\"KNN Grid Search Mean F1 Score\", fontsize=14)\n",
    "plt.ylabel(\"n_neighbors\")\n",
    "plt.xlabel(\"metric\")\n",
    "plt.show()\n"
   ]
  },
  {
   "cell_type": "code",
   "execution_count": null,
   "id": "7feab975",
   "metadata": {},
   "outputs": [],
   "source": [
    "misclassified = np.where(y_pred != y_test)[0]\n",
    "\n",
    "for idx in misclassified[:10]:\n",
    "    img = x_test[idx].reshape(20, 20) * 255 \n",
    "    plt.imshow(img, vmin=0, vmax=255, cmap=\"gray\")\n",
    "    plt.title(f\"True: {y_test[idx]}, Predicted: {y_pred[idx]}\")\n",
    "    plt.show()"
   ]
  },
  {
   "cell_type": "markdown",
   "id": "346c46e6",
   "metadata": {},
   "source": [
    "# Problem 2: running KNN with PCA"
   ]
  },
  {
   "cell_type": "code",
   "execution_count": null,
   "id": "08fd075c",
   "metadata": {},
   "outputs": [],
   "source": [
    "best_model_knn_pca, y_pred_pca, grid_knn_pca, score_pca, train_time_pca, pred_time_pca = knn_function(pca=True)"
   ]
  },
  {
   "cell_type": "markdown",
   "id": "a9dad293",
   "metadata": {},
   "source": [
    "##### Plotting score, training time and prediction time for KNN with and without PCA"
   ]
  },
  {
   "cell_type": "code",
   "execution_count": null,
   "id": "06244347",
   "metadata": {},
   "outputs": [],
   "source": [
    "models = ['KNN (no PCA)', 'KNN + PCA']\n",
    "scores = [score, score_pca]\n",
    "train_times = [train_time, train_time_pca]\n",
    "pred_times = [pred_time, pred_time_pca]\n",
    "\n",
    "#Score comparison\n",
    "plt.figure(figsize=(6,4))\n",
    "plt.bar(models, scores, color=[\"#0F8FE3\", '#48C9B0'])\n",
    "plt.ylabel('Score')\n",
    "plt.title('KNN Score Comparison')\n",
    "for i, v in enumerate(scores):\n",
    "    plt.text(i, v + 0.01, f\"{v*100:.2f}%\", ha='center')\n",
    "plt.ylim(0, 1)\n",
    "plt.show()\n",
    "\n",
    "# Training time comparison\n",
    "plt.figure(figsize=(6,4))\n",
    "plt.bar(models, train_times, color=[\"#FF8CDE\", \"#FF1884\"])\n",
    "plt.ylabel('Training Time (s)')\n",
    "plt.title('KNN Training Time Comparison')\n",
    "for i, v in enumerate(train_times):\n",
    "    plt.text(i, v + 0.02, f\"{v:.2f}s\", ha='center')\n",
    "plt.show()\n",
    "\n",
    "# Prediction time comparison\n",
    "plt.figure(figsize=(6,4))\n",
    "plt.bar(models, pred_times, color=[\"#FFED64\", \"#FB811D\"])\n",
    "plt.ylabel('Prediction Time (s)')\n",
    "plt.title('KNN Prediction Time Comparison')\n",
    "for i, v in enumerate(pred_times):\n",
    "    plt.text(i, v + 0.002, f\"{v:.4f}s\", ha='center')\n",
    "plt.show()\n"
   ]
  },
  {
   "cell_type": "markdown",
   "id": "8c575989",
   "metadata": {},
   "source": [
    "# Problem 3"
   ]
  },
  {
   "cell_type": "code",
   "execution_count": null,
   "id": "d4b24305",
   "metadata": {},
   "outputs": [],
   "source": [
    "corrupted_dataset = np.load(\"dataset_corrupted.npz\")\n",
    "X_corrupted = corrupted_dataset[\"X\"] / 255\n",
    "X_corrupted_tensor = torch.tensor(X_corrupted, dtype=torch.float32).view(-1, 1, 20, 20)\n",
    "X_corrupted_tensor = X_corrupted_tensor.to(best_model.device)\n",
    "\n",
    "\n",
    "best_model.model.eval()\n",
    "with torch.no_grad():\n",
    "    outputs = best_model.model(X_corrupted_tensor)  \n",
    "\n",
    "max_probs = outputs.max(dim=1).values\n",
    "\n",
    "threshold = 0.9\n",
    "\n",
    "ood_indices = (max_probs < threshold).nonzero(as_tuple=True)[0].cpu().numpy()\n",
    "print(f\"Found {len(ood_indices)} suspicious/corrupted images\")"
   ]
  },
  {
   "cell_type": "markdown",
   "id": "6df616c7",
   "metadata": {},
   "source": [
    "##### Vizualising corrupted images"
   ]
  },
  {
   "cell_type": "code",
   "execution_count": null,
   "id": "928cdf42",
   "metadata": {},
   "outputs": [],
   "source": [
    "num_images = min(116, len(ood_indices))\n",
    "grid_size = int(num_images**0.5)\n",
    "\n",
    "fig, axes = plt.subplots(grid_size, grid_size+1, figsize=(15, 15))\n",
    "fig.suptitle(\"Suspicious/Corrupted Images\", fontsize=16)\n",
    "\n",
    "for i, ax in enumerate(axes.flat):\n",
    "    if i < num_images:\n",
    "        idx = ood_indices[i]\n",
    "        ax.imshow(corrupted_dataset[\"X\"][idx].reshape(20, 20), cmap=\"gray\")\n",
    "    ax.axis('off')\n",
    "\n",
    "plt.tight_layout()\n",
    "plt.show()"
   ]
  }
 ],
 "metadata": {
  "kernelspec": {
   "display_name": ".venv",
   "language": "python",
   "name": "python3"
  },
  "language_info": {
   "codemirror_mode": {
    "name": "ipython",
    "version": 3
   },
   "file_extension": ".py",
   "mimetype": "text/x-python",
   "name": "python",
   "nbconvert_exporter": "python",
   "pygments_lexer": "ipython3",
   "version": "3.11.9"
  }
 },
 "nbformat": 4,
 "nbformat_minor": 5
}
