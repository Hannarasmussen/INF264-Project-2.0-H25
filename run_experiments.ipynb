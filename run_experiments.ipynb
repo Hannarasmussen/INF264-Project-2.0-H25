{
 "cells": [
  {
   "cell_type": "code",
   "execution_count": null,
   "id": "35ab683c",
   "metadata": {},
   "outputs": [],
   "source": [
    "import numpy as np\n",
    "\n",
    "import matplotlib.pyplot as plt\n",
    "\n",
    "from sklearn.model_selection import GridSearchCV\n",
    "\n",
    "from sklearn.model_selection import train_test_split\n",
    "from sklearn.neighbors import KNeighborsClassifier\n",
    "from sklearn.neural_network import MLPClassifier\n",
    "from sklearn.metrics import accuracy_score\n",
    "from sklearn.preprocessing import MinMaxScaler\n"
   ]
  },
  {
   "cell_type": "code",
   "execution_count": null,
   "id": "133a8df2",
   "metadata": {},
   "outputs": [],
   "source": [
    "dataset = np.load(\"dataset.npz\")\n",
    "X, y = dataset[\"X\"], dataset[\"y\"]"
   ]
  },
  {
   "cell_type": "code",
   "execution_count": null,
   "id": "d68fb999",
   "metadata": {},
   "outputs": [],
   "source": [
    "random_state = 42\n",
    "X_scaled = X / 255.0 "
   ]
  },
  {
   "cell_type": "code",
   "execution_count": null,
   "id": "dd9f71e4",
   "metadata": {},
   "outputs": [],
   "source": [
    "#vislualize\n",
    "\n",
    "#chosen image\n",
    "k=10\n",
    "\n",
    "shape = (X[k].reshape(20,20))\n",
    "flatten = shape.flatten()\n",
    "\n",
    "print(f\"Label for image {k}: {y[k]}\")\n",
    "plt.imshow(shape, vmin=0, vmax=255, cmap=\"gray\")\n",
    "plt.show()"
   ]
  },
  {
   "cell_type": "markdown",
   "id": "582b5175",
   "metadata": {},
   "source": [
    "# KNN"
   ]
  },
  {
   "cell_type": "code",
   "execution_count": null,
   "id": "cbd5f83e",
   "metadata": {},
   "outputs": [],
   "source": [
    "x_train, x_test, y_train, y_test = train_test_split(X_scaled, y, test_size=0.2, random_state=random_state)\n",
    "\n",
    "param_grid_knn = {\n",
    "    'n_neighbors': [2, 3, 4, 5, 6, 7],\n",
    "    'metric': ['euclidean', 'manhattan', 'minkowski', 'chebyshev']\n",
    "}\n",
    "\n",
    "knn = KNeighborsClassifier()\n",
    "\n",
    "grid_knn = GridSearchCV(knn, param_grid_knn, cv=5, scoring='f1_weighted', n_jobs=-1)\n",
    "grid_knn.fit(x_train, y_train)\n",
    "\n",
    "best_params_knn = grid_knn.best_params_\n",
    "print(f\"Best KNN parameters: {best_params_knn}\")\n",
    "knn = KNeighborsClassifier(**best_params_knn)\n",
    "\n",
    "knn.fit(x_train, y_train)\n",
    "y_pred = knn.predict(x_test)\n",
    "score = knn.score(x_test, y_test)\n",
    "print(f\"KNN Classifier score: {score * 100:.2f}%\") \n"
   ]
  },
  {
   "cell_type": "markdown",
   "id": "5dfafddf",
   "metadata": {},
   "source": [
    "## Visualisation of parameters "
   ]
  },
  {
   "cell_type": "code",
   "execution_count": null,
   "id": "e2531f94",
   "metadata": {},
   "outputs": [],
   "source": [
    "import pandas as pd\n",
    "import seaborn as sns\n",
    "import matplotlib.pyplot as plt\n",
    "from matplotlib.colors import LinearSegmentedColormap\n",
    "\n",
    "results = grid_knn.cv_results_\n",
    "scores = results['mean_test_score']\n",
    "params = results['params']\n",
    "\n",
    "df = pd.DataFrame(params)\n",
    "df['score'] = scores\n",
    "\n",
    "pivot = df.pivot(index='n_neighbors', columns='metric', values='score')\n",
    "\n",
    "bubble_to_hot_pink = LinearSegmentedColormap.from_list(\n",
    "    \"bubble_to_hot_pink\",\n",
    "    [\"#fec1d9\", \"#ffa6cb\", \"#ff82c3\", \"#ff0080ca\"], \n",
    "    N=256 \n",
    ")\n",
    "\n",
    "plt.figure(figsize=(8, 6))\n",
    "sns.heatmap(pivot, annot=True, fmt=\".3f\", cmap=bubble_to_hot_pink)\n",
    "plt.title(\"KNN Grid Search Mean F1 Score\", fontsize=14)\n",
    "plt.ylabel(\"n_neighbors\")\n",
    "plt.xlabel(\"metric\")\n",
    "plt.show()\n",
    "\n"
   ]
  },
  {
   "cell_type": "markdown",
   "id": "36640b80",
   "metadata": {},
   "source": [
    "## Missclassified images for KNN"
   ]
  },
  {
   "cell_type": "code",
   "execution_count": null,
   "id": "7d200954",
   "metadata": {},
   "outputs": [],
   "source": [
    "\n",
    "import matplotlib.pyplot as plt\n",
    "\n",
    "misclassified = np.where(y_pred != y_test)[0]\n",
    "\n",
    "for idx in misclassified[:10]:\n",
    "    img = x_test[idx].reshape(20, 20) * 255 \n",
    "    plt.imshow(img, vmin=0, vmax=255, cmap=\"gray\")\n",
    "    plt.title(f\"True: {y_test[idx]}, Predicted: {y_pred[idx]}\")\n",
    "    plt.show()"
   ]
  },
  {
   "cell_type": "markdown",
   "id": "f44b7093",
   "metadata": {},
   "source": [
    "# Corrupted Dataset"
   ]
  },
  {
   "cell_type": "code",
   "execution_count": null,
   "id": "72d75227",
   "metadata": {},
   "outputs": [],
   "source": [
    "dataset = np.load(\"dataset_corrupted.npz\")\n",
    "X, y = dataset[\"X\"], dataset[\"y\"]"
   ]
  },
  {
   "cell_type": "code",
   "execution_count": null,
   "id": "c0eca7a6",
   "metadata": {},
   "outputs": [],
   "source": [
    "#MLP\n",
    "\n",
    "X_train, X_test, y_train, y_test = train_test_split(X_scaled, y, test_size=0.2, random_state=random_state)\n",
    "\n",
    "mlp = MLPClassifier(max_iter=1000, solver='adam', random_state=random_state, early_stopping=True)\n",
    "\n",
    "paramgrid_mlp = {\n",
    "    'max_iter': [500, 1000, 2000, 3000],\n",
    "    'hidden_layer_sizes': [(100,50), (200,100,50), (300,200,100), (400,300,200,100)],\n",
    "    'alpha': [1e-5, 1e-4, 1e-3, 1e-2, 1e-1, 0.0001, 0.001, 0.01],\n",
    "    'activation': ['relu', 'tanh'],\n",
    "    'learning_rate_init': [0.001, 0.01, 0.05]\n",
    "}\n",
    "\n",
    "grid_mlp = GridSearchCV(mlp, paramgrid_mlp, cv=5, n_jobs=-1)\n",
    "grid_mlp.fit(X_train, y_train)\n",
    "\n",
    "\n",
    "\n",
    "y_pred_mlp = grid_mlp.predict(X_test)\n",
    "accuracy_mlp = accuracy_score(y_test, y_pred_mlp)\n",
    "\n",
    "print(\"Best parameters for MLP:\", grid_mlp.best_params_)\n",
    "print(\"Best MLP Accuracy:\", accuracy_mlp)\n",
    "\n",
    "#print training accuracy\n",
    "y_train_pred_mlp = grid_mlp.predict(X_train)\n",
    "accuracy_train_mlp = accuracy_score(y_train, y_train_pred_mlp)\n",
    "print(\"Training Accuracy:\", accuracy_train_mlp)\n",
    "\n",
    "#print test accuracy\n",
    "print(\"Test Accuracy:\", accuracy_mlp)\n",
    "\n",
    "plt.plot(grid_mlp.best_estimator_.loss_curve_)\n",
    "plt.xlabel(\"Epochs\")\n",
    "plt.ylabel(\"Loss\")\n",
    "plt.title(\"MLP Training Loss Curve\")\n",
    "plt.show()"
   ]
  }
 ],
 "metadata": {
  "kernelspec": {
   "display_name": "base",
   "language": "python",
   "name": "python3"
  },
  "language_info": {
   "codemirror_mode": {
    "name": "ipython",
    "version": 3
   },
   "file_extension": ".py",
   "mimetype": "text/x-python",
   "name": "python",
   "nbconvert_exporter": "python",
   "pygments_lexer": "ipython3",
   "version": "3.13.5"
  }
 },
 "nbformat": 4,
 "nbformat_minor": 5
}
