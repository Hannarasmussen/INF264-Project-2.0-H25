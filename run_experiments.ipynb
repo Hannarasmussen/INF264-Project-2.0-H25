{
 "cells": [
  {
   "cell_type": "code",
   "execution_count": null,
   "id": "35ab683c",
   "metadata": {},
   "outputs": [],
   "source": [
    "import numpy as np\n",
    "\n",
    "import matplotlib.pyplot as plt\n",
    "\n",
    "from sklearn.model_selection import GridSearchCV\n",
    "\n",
    "from sklearn.model_selection import train_test_split\n",
    "from sklearn.neighbors import KNeighborsClassifier\n",
    "from sklearn.neural_network import MLPClassifier\n",
    "from sklearn.metrics import accuracy_score\n"
   ]
  },
  {
   "cell_type": "code",
   "execution_count": null,
   "id": "133a8df2",
   "metadata": {},
   "outputs": [],
   "source": [
    "dataset = np.load(\"dataset.npz\")\n",
    "X, y = dataset[\"X\"], dataset[\"y\"]"
   ]
  },
  {
   "cell_type": "code",
   "execution_count": null,
   "id": "d68fb999",
   "metadata": {},
   "outputs": [],
   "source": [
    "random_state = 42\n",
    "X_scaled = X / 255.0 "
   ]
  },
  {
   "cell_type": "code",
   "execution_count": null,
   "id": "dd9f71e4",
   "metadata": {},
   "outputs": [],
   "source": [
    "#vislualize\n",
    "\n",
    "#chosen image\n",
    "k=10\n",
    "\n",
    "shape = (X[k].reshape(20,20))\n",
    "flatten = shape.flatten()\n",
    "\n",
    "\n",
    "plt.imshow(shape, vmin=0, vmax=255, cmap=\"gray\")\n",
    "plt.show()"
   ]
  },
  {
   "cell_type": "code",
   "execution_count": null,
   "id": "72d75227",
   "metadata": {},
   "outputs": [],
   "source": [
    "dataset = np.load(\"dataset_corrupted.npz\")\n",
    "X, y = dataset[\"X\"], dataset[\"y\"]"
   ]
  },
  {
   "cell_type": "code",
   "execution_count": null,
   "id": "c0eca7a6",
   "metadata": {},
   "outputs": [],
   "source": [
    "#MLP\n",
    "\n",
    "X_train, X_test, y_train, y_test = train_test_split(X_scaled, y, test_size=0.2, random_state=random_state)\n",
    "\n",
    "mlp = MLPClassifier(max_iter=1000, solver='adam', random_state=random_state, early_stopping=True)\n",
    "\n",
    "paramgrid_mlp = {\n",
    "    'max_iter': [500, 1000, 2000, 3000],\n",
    "    'hidden_layer_sizes': [(100,50), (200,100,50), (300,200,100), (400,300,200,100)],\n",
    "    'alpha': [1e-5, 1e-4, 1e-3, 1e-2, 1e-1, 0.0001, 0.001, 0.01],\n",
    "    'activation': ['relu', 'tanh'],\n",
    "    'learning_rate_init': [0.001, 0.01, 0.05]\n",
    "}\n",
    "\n",
    "grid_mlp = GridSearchCV(mlp, paramgrid_mlp, cv=5, n_jobs=-1)\n",
    "grid_mlp.fit(X_train, y_train)\n",
    "\n",
    "\n",
    "\n",
    "y_pred_mlp = grid_mlp.predict(X_test)\n",
    "accuracy_mlp = accuracy_score(y_test, y_pred_mlp)\n",
    "\n",
    "print(\"Best parameters for MLP:\", grid_mlp.best_params_)\n",
    "print(\"Best MLP Accuracy:\", accuracy_mlp)\n",
    "\n",
    "#print training accuracy\n",
    "y_train_pred_mlp = grid_mlp.predict(X_train)\n",
    "accuracy_train_mlp = accuracy_score(y_train, y_train_pred_mlp)\n",
    "print(\"Training Accuracy:\", accuracy_train_mlp)\n",
    "\n",
    "#print test accuracy\n",
    "print(\"Test Accuracy:\", accuracy_mlp)\n",
    "\n",
    "plt.plot(grid_mlp.best_estimator_.loss_curve_)\n",
    "plt.xlabel(\"Epochs\")\n",
    "plt.ylabel(\"Loss\")\n",
    "plt.title(\"MLP Training Loss Curve\")\n",
    "plt.show()"
   ]
  },
  {
   "cell_type": "code",
   "execution_count": null,
   "id": "665a7b1a",
   "metadata": {},
   "outputs": [],
   "source": []
  }
 ],
 "metadata": {
  "kernelspec": {
   "display_name": "INF264",
   "language": "python",
   "name": "python3"
  },
  "language_info": {
   "codemirror_mode": {
    "name": "ipython",
    "version": 3
   },
   "file_extension": ".py",
   "mimetype": "text/x-python",
   "name": "python",
   "nbconvert_exporter": "python",
   "pygments_lexer": "ipython3",
   "version": "3.13.7"
  }
 },
 "nbformat": 4,
 "nbformat_minor": 5
}
